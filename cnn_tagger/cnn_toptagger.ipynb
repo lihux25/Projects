{
 "cells": [
  {
   "cell_type": "code",
   "execution_count": 1,
   "metadata": {},
   "outputs": [
    {
     "name": "stderr",
     "output_type": "stream",
     "text": [
      "Using TensorFlow backend.\n"
     ]
    }
   ],
   "source": [
    "from sklearn.preprocessing import LabelEncoder\n",
    "from sklearn.model_selection import StratifiedKFold\n",
    "from keras.models import Sequential, Model\n",
    "from keras.layers import Input, Activation, Dense, Convolution2D, Conv2D, MaxPooling2D, Dropout, Flatten\n",
    "from keras.utils import np_utils, plot_model\n",
    "from keras.callbacks import EarlyStopping\n",
    "import numpy as np\n",
    "import pandas as pd\n",
    "import sys\n",
    "import glob\n",
    "import matplotlib.pyplot as plt\n",
    "import matplotlib as mpl\n",
    "import tensorflow as tf\n",
    "\n",
    "import os\n",
    "os.environ['KERAS_BACKEND'] = 'tensorflow'\n",
    "os.environ['CUDA_VISIBLE_DEVICES'] = '1'\n",
    "\n",
    "#from keras import backend as K\n",
    "from keras.layers.core import K\n",
    "\n",
    "%matplotlib inline\n",
    "\n",
    "plt.rcParams['image.cmap'] = 'rainbow'\n",
    "\n",
    "# Fix random seed for reproducibility\n",
    "seed = 7\n",
    "np.random.seed(seed)"
   ]
  },
  {
   "cell_type": "code",
   "execution_count": 2,
   "metadata": {
    "scrolled": false
   },
   "outputs": [
    {
     "name": "stdout",
     "output_type": "stream",
     "text": [
      "[('run', '<i4'), ('lumi', '<i4'), ('event', '<i4'), ('met', '<f8'), ('sumet', '<f8'), ('rho', '<f8'), ('pthat', '<f8'), ('mcweight', '<f8'), ('njet_ak7', '<i4'), ('jet_pt_ak7', '<f8'), ('jet_eta_ak7', '<f8'), ('jet_phi_ak7', '<f8'), ('jet_E_ak7', '<f8'), ('jet_msd_ak7', '<f8'), ('jet_area_ak7', '<f8'), ('jet_jes_ak7', '<f8'), ('jet_tau21_ak7', '<f8'), ('jet_isW_ak7', '<i4'), ('jet_ncand_ak7', '<i4'), ('ak7pfcand_pt', '<f8'), ('ak7pfcand_eta', '<f8'), ('ak7pfcand_phi', '<f8'), ('ak7pfcand_id', '<i4'), ('ak7pfcand_charge', '<i4'), ('ak7pfcand_ijet', '<i4')]\n"
     ]
    }
   ],
   "source": [
    "# Get input numpy arrays\n",
    "inputs = {}\n",
    "inputs['TT'] = glob.glob('inputdata/output_TT/*job1[1-3]*.npy')\n",
    "inputs['QCD120'] = glob.glob('inputdata/output_QCD120/*job0*.npy')\n",
    "inputs['QCD170'] = glob.glob('inputdata/output_QCD170/*job0*.npy')\n",
    "inputs['QCD300'] = glob.glob('inputdata/output_QCD300/*job0*.npy')\n",
    "inputs['QCD470'] = glob.glob('inputdata/output_QCD470/*job0*.npy')\n",
    "\n",
    "list_params = {}\n",
    "params = {}\n",
    "for key, input_files in inputs.items():\n",
    "    list_params[key] = []\n",
    "    for in_file in input_files:\n",
    "        try:\n",
    "            arr = np.load(in_file)\n",
    "            list_params[key].append(arr)\n",
    "        except ValueError:\n",
    "            print('bad file: {:s}'.format(in_file))\n",
    "    params[key] = np.concatenate(list_params[key])\n",
    "# Print out variables in the data\n",
    "print(params['TT'].dtype)"
   ]
  },
  {
   "cell_type": "code",
   "execution_count": 3,
   "metadata": {},
   "outputs": [],
   "source": [
    "# Now let's prepare some jet images\n",
    "df_dict_jet = {}\n",
    "df_dict_cand = {}\n",
    "\n",
    "# This is a classification problem where we have two categories.\n",
    "# Let's call them signal (label as 1) and background (label as 0).\n",
    "# The signal can be extracted from datasets named \"TT\", i.e., the object that is a 'W' (jet_isW_ak7==1). Then the background come from datasets named \"QCD*\".\n",
    "# There are 4 of them for the background datasets as in the list_QCD.\n",
    "list_QCD = ['QCD120','QCD170','QCD300','QCD470']\n",
    "\n",
    "# For each event, we can have mutiple jets, so the jet columns selections include event-wide variables\n",
    "# For each jet, we have multiple particle candidates (cand). Each jet has a cone of radius 0.7 and can contain multiple\n",
    "# candidates. Therefore we keep candidate level information, i.e., the ak7pfcand_*.\n",
    "columns_jet = ['run', 'lumi', 'event', 'met', 'sumet', 'rho', 'pthat', 'mcweight', 'njet_ak7', 'jet_pt_ak7', 'jet_eta_ak7', 'jet_phi_ak7', 'jet_E_ak7', 'jet_msd_ak7', 'jet_area_ak7', 'jet_jes_ak7', 'jet_tau21_ak7', 'jet_isW_ak7', 'jet_ncand_ak7','ak7pfcand_ijet']\n",
    "columns_cand = ['event', 'jet_pt_ak7', 'jet_isW_ak7', 'ak7pfcand_pt', 'ak7pfcand_eta', 'ak7pfcand_phi', 'ak7pfcand_id', 'ak7pfcand_charge', 'ak7pfcand_ijet']\n",
    "\n",
    "df_dict_jet['TT'] = pd.DataFrame(params['TT'],columns=columns_jet)\n",
    "# Since each entry contains a pfcand and each event can have multiple pfcand, for event-wise dataframe, there are duplicates.\n",
    "# Therefore a drop_duplicates() is necessary.\n",
    "df_dict_jet['TT'] = df_dict_jet['TT'].drop_duplicates()\n",
    "df_dict_cand['TT'] = pd.DataFrame(params['TT'],columns=columns_cand)\n",
    "\n",
    "for QCDbin in list_QCD:\n",
    "    df_dict_jet[QCDbin] = pd.DataFrame(params[QCDbin],columns=columns_jet)\n",
    "    df_dict_jet[QCDbin] = df_dict_jet[QCDbin].drop_duplicates()\n",
    "    # Take every 8th jet just to make the training faster and have a sample roughly the size of W jets\n",
    "    df_dict_jet[QCDbin] = df_dict_jet[QCDbin].iloc[::8, :]\n",
    "    \n",
    "    df_dict_cand[QCDbin] = pd.DataFrame(params[QCDbin],columns=columns_cand)\n",
    "\n",
    "# Create a map of 'QCD' which is a sum of the individual QCD datasets\n",
    "df_dict_jet['QCD'] = pd.concat([df_dict_jet[x] for x in list_QCD])\n",
    "df_dict_cand['QCD'] = pd.concat([df_dict_cand[x] for x in list_QCD])"
   ]
  },
  {
   "cell_type": "code",
   "execution_count": 4,
   "metadata": {},
   "outputs": [
    {
     "data": {
      "image/png": "[encoded data removed]",
      "text/plain": [
       "<matplotlib.figure.Figure at 0x10b9d6b70>"
      ]
     },
     "metadata": {},
     "output_type": "display_data"
    }
   ],
   "source": [
    "# Plot an important variable to find its range between signal ('W in TT') and background (QCD)\n",
    "_=plt.figure()\n",
    "_=plt.xlabel('pt_ak7')\n",
    "bins = np.linspace(0, 800, 50)\n",
    "_=df_dict_jet['QCD']['jet_pt_ak7'].plot.hist(bins, alpha=0.5, label='QCD', weights=df_dict_jet['QCD']['mcweight'],normed=True)\n",
    "_=df_dict_jet['TT'][df_dict_jet['TT'].jet_isW_ak7==1]['jet_pt_ak7'].plot.hist(bins, alpha=0.5, label='W in TT',normed=True)\n",
    "_=df_dict_jet['TT'][df_dict_jet['TT'].jet_isW_ak7==0]['jet_pt_ak7'].plot.hist(bins, alpha=0.5, label='non W in TT',normed=True)\n",
    "_=plt.legend(loc='upper right')"
   ]
  },
  {
   "cell_type": "code",
   "execution_count": 5,
   "metadata": {},
   "outputs": [
    {
     "name": "stdout",
     "output_type": "stream",
     "text": [
      "number of events in TT : 3937\n",
      "number of events in QCD : 9397\n",
      "number of candidates in TT : 239137\n",
      "number of candidates in QCD : 4000000\n"
     ]
    }
   ],
   "source": [
    "# Select interesting events and separate out signal and background, i.e., via 'isW'e\n",
    "# We can select events for training with specific \"jet_pt_ak7\" ranges. But here we use all of possible events. \n",
    "def selection_cuts(df, ptcuts, isW):\n",
    "    return df[(df.jet_pt_ak7>ptcuts[0]) & (df.jet_pt_ak7<ptcuts[1]) & (df.jet_isW_ak7==isW)]\n",
    "\n",
    "# The signals\n",
    "df_dict_jet['TT'] = selection_cuts(df_dict_jet['TT'], (100., 1000.), 1)\n",
    "df_dict_cand['TT'] = selection_cuts(df_dict_cand['TT'], (100., 1000.), 1)\n",
    "\n",
    "# The backgrounds\n",
    "for QCDbin in list_QCD:\n",
    "    df_dict_jet[QCDbin] = selection_cuts(df_dict_jet[QCDbin], (100., 1000.), 0)\n",
    "    df_dict_cand[QCDbin] = selection_cuts(df_dict_cand[QCDbin], (100., 1000.), 0)\n",
    "    \n",
    "df_dict_jet['QCD'] = selection_cuts(df_dict_jet['QCD'], (100., 1000.), 0)\n",
    "df_dict_cand['QCD'] = selection_cuts(df_dict_cand['QCD'], (100.0, 1000.), 0)\n",
    "\n",
    "print('number of events in TT : {}'.format(len(df_dict_jet['TT'])))\n",
    "print('number of events in QCD : {}'.format(len(df_dict_jet['QCD'])))\n",
    "print('number of candidates in TT : {}'.format(len(df_dict_cand['TT'])))\n",
    "print('number of candidates in QCD : {}'.format(len(df_dict_cand['QCD'])))"
   ]
  },
  {
   "cell_type": "code",
   "execution_count": 6,
   "metadata": {
    "collapsed": true
   },
   "outputs": [],
   "source": [
    "# Apply rotation + (possible) reflection needed later\n",
    "def rotate_and_reflect(x,y,w):\n",
    "    rot_x = []\n",
    "    rot_y = []\n",
    "    theta = 0\n",
    "    maxPt = -1\n",
    "    for ix, iy, iw in zip(x, y, w):\n",
    "        dv = np.matrix([[ix],[iy]])-np.matrix([[x.iloc[0]],[y.iloc[0]]])\n",
    "        dR = np.linalg.norm(dv)\n",
    "        thisPt = iw\n",
    "        if dR > 0.35 and thisPt > maxPt:\n",
    "            maxPt = thisPt\n",
    "            # rotation in eta-phi plane c.f  https://arxiv.org/abs/1407.5675 and https://arxiv.org/abs/1511.05190:\n",
    "            # theta = -np.arctan2(iy,ix)-np.radians(90)\n",
    "            # rotation by lorentz transformation c.f. https://arxiv.org/abs/1704.02124:\n",
    "            px = iw * np.cos(iy)\n",
    "            py = iw * np.sin(iy)\n",
    "            pz = iw * np.sinh(ix)\n",
    "            theta = np.arctan2(py,pz)+np.radians(90)\n",
    "            \n",
    "    c, s = np.cos(theta), np.sin(theta)\n",
    "    R = np.matrix('{} {}; {} {}'.format(c, -s, s, c))\n",
    "    for ix, iy, iw in zip(x, y, w):\n",
    "        # rotation in eta-phi plane:\n",
    "        # rot = R*np.matrix([[ix],[iy]])\n",
    "        # rix, riy = rot[0,0], rot[1,0]\n",
    "        # rotation by lorentz transformation\n",
    "        px = iw * np.cos(iy)\n",
    "        py = iw * np.sin(iy)\n",
    "        pz = iw * np.sinh(ix)\n",
    "        rot = R*np.matrix([[py],[pz]])\n",
    "        rix, riy = np.arcsinh(rot[1,0]/iw), np.arcsin(rot[0,0]/iw)\n",
    "        rot_x.append(rix)\n",
    "        rot_y.append(riy)\n",
    "        \n",
    "    # Now reflect if leftSum > rightSum\n",
    "    leftSum = 0\n",
    "    rightSum = 0\n",
    "    for ix, iy, iw in zip(x, y, w):\n",
    "        if ix > 0: \n",
    "            rightSum += iw\n",
    "        elif ix < 0:\n",
    "            leftSum += iw\n",
    "    if leftSum > rightSum:\n",
    "        ref_x = [-1.*rix for rix in rot_x]\n",
    "        ref_y = rot_y\n",
    "    else:\n",
    "        ref_x = rot_x\n",
    "        ref_y = rot_y\n",
    "    \n",
    "    return np.array(ref_x), np.array(ref_y)"
   ]
  },
  {
   "cell_type": "code",
   "execution_count": 7,
   "metadata": {
    "collapsed": true,
    "scrolled": false
   },
   "outputs": [],
   "source": [
    "# Function to fill the object images\n",
    "def fill_jet_images(df_jet, df_cand, image_dims, rgb_dims):\n",
    "    nx = image_dims[0]\n",
    "    ny = image_dims[1]\n",
    "    xbins = np.linspace(-1.4,1.4,image_dims[0]+1)\n",
    "    ybins = np.linspace(-1.4,1.4,image_dims[1]+1)\n",
    "    # Treat the charge of the particle candidate as an additional channel (analogy to the rgb channel in computer vision)\n",
    "    if rgb_dims == 3:\n",
    "        # Charges are within values of -1, 0 or 1\n",
    "        charge_dims = (-1, 0, 1)\n",
    "    else:\n",
    "        charge_dims = (-99) \n",
    "    list_x = []\n",
    "    list_y = []\n",
    "    list_w = []\n",
    "    njets = 0\n",
    "    if K.image_dim_ordering() == 'tf':\n",
    "        this_jet_images = np.zeros((len(df_jet), image_dims[0], image_dims[1], rgb_dims))\n",
    "    else:\n",
    "        this_jet_images = np.zeros((len(df_jet), rgb_dims, image_dims[0], image_dims[1]))\n",
    "    # Loop over the jet objects\n",
    "    for ij in range(len(df_jet)):\n",
    "        njets += 1\n",
    "        # Process the rgb channels\n",
    "        for ic in range(rgb_dims):\n",
    "            target_charge = charge_dims[ic]\n",
    "            # Filter out rows with only target_charge. If it's -99, then no filtering.    \n",
    "            if target_charge != -99:\n",
    "                df_cand_tmp = df_cand[df_cand['ak7pfcand_charge']==target_charge]\n",
    "            else:\n",
    "                df_cand_tmp = df_cand\n",
    "            # For each of the jet object, using 'ak7pfcand_ijet' to match and select all related particle candidates\n",
    "            df_cand_ij = df_cand_tmp[(df_cand_tmp['ak7pfcand_ijet'] == df_jet['ak7pfcand_ijet'].iloc[ij]) & (df_cand_tmp['event']==df_jet['event'].iloc[ij])]\n",
    "            # Normalize the jet image to be the first candidate coordiates\n",
    "            x = df_cand_ij['ak7pfcand_eta'] - df_cand_ij['ak7pfcand_eta'].iloc[0]\n",
    "            y = df_cand_ij['ak7pfcand_phi'] - df_cand_ij['ak7pfcand_phi'].iloc[0]\n",
    "            # The weights (analogy to color channel intensity) are the transverse momentum of the candidates\n",
    "            weights = df_cand_ij['ak7pfcand_pt']\n",
    "            # Processing to compose a jet \"image\"\n",
    "            x,y = rotate_and_reflect(x, y, weights)\n",
    "            # Accumulate them all (later for plotting)\n",
    "            list_x.append(x)\n",
    "            list_y.append(y)\n",
    "            list_w.append(weights)\n",
    "            hist, xedges, yedges = np.histogram2d(x, y, weights=weights, bins=(xbins, ybins))\n",
    "            for ix in range(nx):\n",
    "                for iy in range(ny):\n",
    "                    # Fill the image to a numpy array\n",
    "                    if K.image_dim_ordering() == 'tf':\n",
    "                        this_jet_images[ij, ix, iy, ic] = hist[ix, iy]\n",
    "                    else:\n",
    "                        this_jet_images[ij, ic, ix, iy] = hist[ix, iy]\n",
    "    return njets, list_x, list_y, list_w, this_jet_images"
   ]
  },
  {
   "cell_type": "code",
   "execution_count": 8,
   "metadata": {},
   "outputs": [],
   "source": [
    "jet_images = {}\n",
    "# 4D tensor\n",
    "# 1st dim is jet index\n",
    "# 2nd dim is eta bin\n",
    "# 3rd dim is phi bin\n",
    "# 4th dim is for channels (or rgb, etc.)\n",
    "\n",
    "image_dims = (30, 30) # (nx, ny)\n",
    "#image_dims = (15, 15) # (nx, ny)\n",
    "rgb_dims = 3 # for charge (-1, 0, 1)\n",
    "\n",
    "nx = image_dims[0]\n",
    "ny = image_dims[1]\n",
    "xbins = np.linspace(-1.4,1.4,image_dims[0]+1)\n",
    "ybins = np.linspace(-1.4,1.4,image_dims[1]+1)"
   ]
  },
  {
   "cell_type": "code",
   "execution_count": 9,
   "metadata": {},
   "outputs": [
    {
     "name": "stderr",
     "output_type": "stream",
     "text": [
      "/Library/Frameworks/Python.framework/Versions/3.6/lib/python3.6/site-packages/ipykernel_launcher.py:32: RuntimeWarning: invalid value encountered in arcsin\n",
      "/Library/Frameworks/Python.framework/Versions/3.6/lib/python3.6/site-packages/numpy/lib/function_base.py:968: RuntimeWarning: invalid value encountered in greater_equal\n",
      "  not_smaller_than_edge = (sample[:, i] >= edges[i][-1])\n"
     ]
    }
   ],
   "source": [
    "njets_TT, list_x_TT, list_y_TT, list_w_TT, this_jet_images_TT = fill_jet_images(df_dict_jet['TT'], df_dict_cand['TT'], image_dims, rgb_dims)\n",
    "jet_images['TT'] = this_jet_images_TT\n",
    "            \n",
    "all_x_TT = np.concatenate(list_x_TT)\n",
    "all_y_TT = np.concatenate(list_y_TT)\n",
    "all_w_TT = np.concatenate(list_w_TT)\n",
    "# Average the weights by total number of jet objects\n",
    "all_w_TT = 1.*all_w_TT/njets_TT\n",
    "\n",
    "njets_QCD, list_x_QCD, list_y_QCD, list_w_QCD, this_jet_images_QCD = fill_jet_images(df_dict_jet['QCD'], df_dict_cand['QCD'], image_dims, rgb_dims)\n",
    "jet_images['QCD'] = this_jet_images_QCD\n",
    "            \n",
    "all_x_QCD = np.concatenate(list_x_QCD)\n",
    "all_y_QCD = np.concatenate(list_y_QCD)\n",
    "all_w_QCD = np.concatenate(list_w_QCD)\n",
    "# Average the weights by total number of jet objects\n",
    "all_w_QCD = 1.*all_w_QCD/njets_QCD"
   ]
  },
  {
   "cell_type": "code",
   "execution_count": 10,
   "metadata": {
    "scrolled": true
   },
   "outputs": [
    {
     "name": "stderr",
     "output_type": "stream",
     "text": [
      "/Library/Frameworks/Python.framework/Versions/3.6/lib/python3.6/site-packages/numpy/lib/function_base.py:968: RuntimeWarning: invalid value encountered in greater_equal\n",
      "  not_smaller_than_edge = (sample[:, i] >= edges[i][-1])\n"
     ]
    },
    {
     "data": {
      "image/png": "[encoded data removed]",
      "text/plain": [
       "<matplotlib.figure.Figure at 0x308abd898>"
      ]
     },
     "metadata": {},
     "output_type": "display_data"
    }
   ],
   "source": [
    "# Make jet image plots for signal ('W in TT') and background ('QCD') categories.\n",
    "# They are average jet images over all the objects.\n",
    "_=plt.figure(figsize=(10,4))\n",
    "\n",
    "_=plt.subplot(1,2,1)\n",
    "_=plt.hist2d(all_x_TT, all_y_TT, weights=all_w_TT, bins=(xbins,ybins), norm=mpl.colors.LogNorm(), label='W in TT')\n",
    "_=plt.colorbar()\n",
    "_=plt.xlabel('eta')\n",
    "_=plt.ylabel('phi')\n",
    "\n",
    "_=plt.subplot(1,2,2)\n",
    "_=plt.hist2d(all_x_QCD, all_y_QCD, weights=all_w_QCD, bins=(xbins,ybins), norm=mpl.colors.LogNorm(), label='QCD')\n",
    "_=plt.colorbar()\n",
    "_=plt.xlabel('eta')\n",
    "_=plt.ylabel('phi')\n",
    "_=plt.show()"
   ]
  },
  {
   "cell_type": "code",
   "execution_count": 11,
   "metadata": {
    "scrolled": false
   },
   "outputs": [
    {
     "name": "stdout",
     "output_type": "stream",
     "text": [
      "_________________________________________________________________\n",
      "Layer (type)                 Output Shape              Param #   \n",
      "=================================================================\n",
      "conv2d_1 (Conv2D)            (None, 30, 30, 8)         224       \n",
      "_________________________________________________________________\n",
      "max_pooling2d_1 (MaxPooling2 (None, 10, 10, 8)         0         \n",
      "_________________________________________________________________\n",
      "dropout_1 (Dropout)          (None, 10, 10, 8)         0         \n",
      "_________________________________________________________________\n",
      "conv2d_2 (Conv2D)            (None, 10, 10, 8)         584       \n",
      "_________________________________________________________________\n",
      "max_pooling2d_2 (MaxPooling2 (None, 3, 3, 8)           0         \n",
      "_________________________________________________________________\n",
      "dropout_2 (Dropout)          (None, 3, 3, 8)           0         \n",
      "_________________________________________________________________\n",
      "conv2d_3 (Conv2D)            (None, 3, 3, 8)           584       \n",
      "_________________________________________________________________\n",
      "max_pooling2d_3 (MaxPooling2 (None, 1, 1, 8)           0         \n",
      "_________________________________________________________________\n",
      "dropout_3 (Dropout)          (None, 1, 1, 8)           0         \n",
      "_________________________________________________________________\n",
      "flatten_1 (Flatten)          (None, 8)                 0         \n",
      "_________________________________________________________________\n",
      "dropout_4 (Dropout)          (None, 8)                 0         \n",
      "_________________________________________________________________\n",
      "dense_1 (Dense)              (None, 20)                180       \n",
      "_________________________________________________________________\n",
      "dropout_5 (Dropout)          (None, 20)                0         \n",
      "_________________________________________________________________\n",
      "dense_2 (Dense)              (None, 2)                 42        \n",
      "=================================================================\n",
      "Total params: 1,614\n",
      "Trainable params: 1,614\n",
      "Non-trainable params: 0\n",
      "_________________________________________________________________\n"
     ]
    }
   ],
   "source": [
    "# Function to compose the Converlutional Neural Network model\n",
    "def build_conv_model():\n",
    "    \"\"\"Test model.  Consists of several convolutional layers followed by dense layers and an output layer\"\"\"\n",
    "    model = Sequential()\n",
    "    if K.image_dim_ordering()=='tf':\n",
    "        input_shape = (nx, ny, rgb_dims)\n",
    "    else:\n",
    "        input_shape = (rgb_dims, nx, ny)\n",
    "    model.add(Conv2D(8, (3, 3), activation='relu', padding='same', input_shape=input_shape))\n",
    "    model.add(MaxPooling2D(pool_size=(3, 3)))\n",
    "    model.add(Dropout(0.20))\n",
    "    \n",
    "    model.add(Conv2D(8, (3, 3), activation='relu', padding='same'))\n",
    "    model.add(MaxPooling2D(pool_size=(3, 3)))\n",
    "    model.add(Dropout(0.20))\n",
    "\n",
    "    model.add(Conv2D(8, (3, 3), activation='relu', padding='same'))\n",
    "    model.add(MaxPooling2D(pool_size=(3, 3)))\n",
    "    model.add(Dropout(0.20))\n",
    "\n",
    "    model.add(Flatten())\n",
    "    model.add(Dropout(0.20))\n",
    "    model.add(Dense(20, activation='relu'))\n",
    "    model.add(Dropout(0.10))\n",
    "\n",
    "    model.add(Dense(2, activation='softmax'))\n",
    "    \n",
    "    model.compile(optimizer='nadam', loss='binary_crossentropy', metrics=['accuracy'])    \n",
    "    return model\n",
    "# Print out summary of the built model\n",
    "conv_model = build_conv_model()\n",
    "conv_model.summary()\n",
    "#plot_model(conv_model)"
   ]
  },
  {
   "cell_type": "code",
   "execution_count": 12,
   "metadata": {
    "scrolled": true
   },
   "outputs": [
    {
     "data": {
      "text/plain": [
       "LabelEncoder()"
      ]
     },
     "execution_count": 12,
     "metadata": {},
     "output_type": "execute_result"
    },
    {
     "name": "stdout",
     "output_type": "stream",
     "text": [
      "X size :13334  Y size : 13334\n"
     ]
    }
   ],
   "source": [
    "# Prepare the input and output\n",
    "X = np.concatenate([jet_images['TT'], jet_images['QCD']])\n",
    "# For TT, it is in signal category, i.e., with label of 1.\n",
    "# For QCD, it is in background category, i.e., with label of 0.\n",
    "Y_TT = np.ones(jet_images['TT'].shape[0])\n",
    "Y_QCD = np.zeros(jet_images['QCD'].shape[0])\n",
    "Y = np.concatenate([Y_TT, Y_QCD])\n",
    "\n",
    "encoder = LabelEncoder()\n",
    "encoder.fit(Y)\n",
    "encoded_Y_trans = encoder.transform(Y)\n",
    "# Transfer Y to one-hot format\n",
    "encoded_Y = np_utils.to_categorical(encoded_Y_trans)\n",
    "print(\"X size :{}  Y size : {}\".format(len(X), len(encoded_Y)))"
   ]
  },
  {
   "cell_type": "code",
   "execution_count": 13,
   "metadata": {
    "scrolled": false
   },
   "outputs": [
    {
     "name": "stderr",
     "output_type": "stream",
     "text": [
      "/Library/Frameworks/Python.framework/Versions/3.6/lib/python3.6/site-packages/keras/models.py:837: UserWarning: The `nb_epoch` argument in `fit` has been renamed `epochs`.\n",
      "  warnings.warn('The `nb_epoch` argument in `fit` '\n"
     ]
    },
    {
     "name": "stdout",
     "output_type": "stream",
     "text": [
      "6496/6666 [============================>.] - ETA: 0s"
     ]
    },
    {
     "data": {
      "image/png": "[encoded data removed]",
      "text/plain": [
       "<matplotlib.figure.Figure at 0x2e7cadd30>"
      ]
     },
     "metadata": {},
     "output_type": "display_data"
    }
   ],
   "source": [
    "# Run classifier with cross-validation and plot ROC curves\n",
    "from itertools import cycle\n",
    "from sklearn.metrics import roc_curve, auc\n",
    "from scipy import interp\n",
    "\n",
    "# Split samples to 2.\n",
    "kfold = StratifiedKFold(n_splits=2, shuffle=True, random_state=seed)\n",
    "# Early stopping conditions.\n",
    "early_stopping = EarlyStopping(monitor='val_loss', patience=10)\n",
    "\n",
    "mean_tpr = 0.0\n",
    "mean_fpr = np.linspace(0, 1, 100)\n",
    "colors = cycle(['cyan', 'indigo', 'seagreen', 'yellow', 'blue', 'darkorange', 'red', 'black', 'green', 'brown'])\n",
    "lw = 2\n",
    "\n",
    "i = 0\n",
    "histories = []\n",
    "for (train, test), color in zip(kfold.split(X, encoded_Y_trans), colors):\n",
    "    conv_model = build_conv_model()\n",
    "    # Train the model and get traning history\n",
    "    history = conv_model.fit(X[train], encoded_Y[train], validation_data=(X[test], encoded_Y[test]), \n",
    "                             nb_epoch=100, batch_size=256, verbose=0, callbacks=[early_stopping])\n",
    "    # Get prediction probability for test samples\n",
    "    Y_score = conv_model.predict_proba(X[test])[:, 1]\n",
    "    # Record the histories\n",
    "    histories.append(history)\n",
    "    # Compute ROC curve and area the curve\n",
    "    fpr, tpr, thresholds = roc_curve(encoded_Y_trans[test], Y_score)\n",
    "    # One-dimensional linear interpolation\n",
    "    mean_tpr += interp(mean_fpr, fpr, tpr)\n",
    "    mean_tpr[0] = 0.0\n",
    "    roc_auc = auc(fpr, tpr)\n",
    "    _=plt.plot(fpr, tpr, lw=lw, color=color, label='ROC fold %d (area = %0.2f)' % (i, roc_auc))\n",
    "    i += 1\n",
    "_=plt.plot([0, 1], [0, 1], linestyle='--', lw=lw, color='k', label='Luck')\n",
    "# Plot the average ROC of the K stratified fold (K=2 here)\n",
    "mean_tpr /= kfold.get_n_splits(X, encoded_Y_trans)\n",
    "mean_tpr[-1] = 1.0\n",
    "mean_auc = auc(mean_fpr, mean_tpr)\n",
    "_=plt.plot(mean_fpr, mean_tpr, color='g', linestyle='--',label='Mean ROC (area = %0.2f)' % mean_auc, lw=lw)\n",
    "_=plt.xlim([0, 1.0])\n",
    "_=plt.ylim([0, 1.0])\n",
    "_=plt.xlabel('False Positive Rate')\n",
    "_=plt.ylabel('True Positive Rate')\n",
    "_=plt.title('Receiver operating characteristic example')\n",
    "_=plt.legend(loc=\"lower right\")\n",
    "_=plt.show()"
   ]
  },
  {
   "cell_type": "code",
   "execution_count": 14,
   "metadata": {},
   "outputs": [
    {
     "data": {
      "image/png": "[encoded data removed]",
      "text/plain": [
       "<matplotlib.figure.Figure at 0x3137f5a20>"
      ]
     },
     "metadata": {},
     "output_type": "display_data"
    }
   ],
   "source": [
    "# Plot the evolution of the loss for both training and testing datasets\n",
    "def draw_train_history(history, draw_val=True, figsize=(12,5)):\n",
    "    \"\"\"Make plots of training and validation losses and accuracies\"\"\"\n",
    "    plt.figure(figsize=figsize)\n",
    "    # Plot loss\n",
    "    plt.subplot(121)\n",
    "    plt.plot(history.epoch, history.history['loss'], label='Training set')\n",
    "    if draw_val:\n",
    "        plt.plot(history.epoch, history.history['val_loss'], label='Validation set')\n",
    "    plt.xlabel('Epoch')\n",
    "    plt.ylabel('Loss')\n",
    "    plt.title('Training loss')\n",
    "    plt.legend()\n",
    "    plt.subplot(122)\n",
    "    plt.plot(history.epoch, history.history['acc'], label='Training set')\n",
    "    if draw_val:\n",
    "        plt.plot(history.epoch, history.history['val_acc'], label='Validation set')\n",
    "    plt.xlabel('Epoch')\n",
    "    plt.ylabel('Accuracy')\n",
    "    plt.ylim((0, 1))\n",
    "    plt.title('Training accuracy')\n",
    "    plt.legend(loc=0)\n",
    "    plt.tight_layout()\n",
    "# The reason the training loss is higher than validation loss is explained in \n",
    "# https://keras.io/getting-started/faq/#why-is-the-training-loss-much-higher-than-the-testing-loss\n",
    "# It's because dropout and L1/L2 weights are turned off at validation (testing) and validation is\n",
    "# computed at the end of the epoch while training loss is the average of the losses over the batches.\n",
    "draw_train_history(histories[0])"
   ]
  },
  {
   "cell_type": "code",
   "execution_count": null,
   "metadata": {
    "collapsed": true
   },
   "outputs": [],
   "source": []
  }
 ],
 "metadata": {
  "kernelspec": {
   "display_name": "Python 3",
   "language": "python",
   "name": "python3"
  },
  "language_info": {
   "codemirror_mode": {
    "name": "ipython",
    "version": 3
   },
   "file_extension": ".py",
   "mimetype": "text/x-python",
   "name": "python",
   "nbconvert_exporter": "python",
   "pygments_lexer": "ipython3",
   "version": "3.6.1"
  }
 },
 "nbformat": 4,
 "nbformat_minor": 2
}
