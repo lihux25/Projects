{
 "cells": [
  {
   "cell_type": "code",
   "execution_count": 1,
   "metadata": {
    "collapsed": true,
    "deletable": true,
    "editable": true
   },
   "outputs": [],
   "source": [
    "import tensorflow as tf\n",
    "sess = tf.InteractiveSession()\n",
    "\n",
    "sess.config = tf.ConfigProto(log_device_placement=True)\n",
    "\n",
    "%matplotlib inline"
   ]
  },
  {
   "cell_type": "markdown",
   "metadata": {
    "deletable": true,
    "editable": true
   },
   "source": [
    "### Loading and investigating the data"
   ]
  },
  {
   "cell_type": "code",
   "execution_count": 2,
   "metadata": {
    "collapsed": false,
    "deletable": true,
    "editable": true,
    "scrolled": true
   },
   "outputs": [
    {
     "name": "stdout",
     "output_type": "stream",
     "text": [
      "Extracting MNIST_data/train-images-idx3-ubyte.gz\n",
      "Extracting MNIST_data/train-labels-idx1-ubyte.gz\n",
      "Extracting MNIST_data/t10k-images-idx3-ubyte.gz\n",
      "Extracting MNIST_data/t10k-labels-idx1-ubyte.gz\n"
     ]
    }
   ],
   "source": [
    "from tensorflow.examples.tutorials.mnist import input_data\n",
    "mnist = input_data.read_data_sets('MNIST_data', one_hot=True)"
   ]
  },
  {
   "cell_type": "code",
   "execution_count": 3,
   "metadata": {
    "collapsed": false,
    "deletable": true,
    "editable": true
   },
   "outputs": [
    {
     "name": "stdout",
     "output_type": "stream",
     "text": [
      "label : [ 0.  1.  0.  0.  0.  0.  0.  0.  0.  0.]\n"
     ]
    },
    {
     "data": {
      "image/png": "[encoded data removed]",
      "text/plain": [
       "<matplotlib.figure.Figure at 0x114cacda0>"
      ]
     },
     "metadata": {},
     "output_type": "display_data"
    }
   ],
   "source": [
    "plt.rc('figure', figsize=(2, 2))\n",
    "num_train = mnist.train.images.shape[0]\n",
    "picked_idx = np.random.randint(0, num_train-1)\n",
    "digi_rndm = mnist.train.images[picked_idx]\n",
    "digi_label = mnist.train.labels[picked_idx]\n",
    "digi_mat = digi_rndm.reshape(28, 28)\n",
    "_=plt.imshow(digi_mat, cmap='gray')\n",
    "print('label : {}'.format(digi_label))"
   ]
  },
  {
   "cell_type": "markdown",
   "metadata": {},
   "source": [
    "### The structure of this convolutional neural network is shown as:\n",
    "\n",
    "![graphs from tensorBoard](dnn.png)"
   ]
  },
  {
   "cell_type": "code",
   "execution_count": 4,
   "metadata": {
    "collapsed": false,
    "deletable": true,
    "editable": true
   },
   "outputs": [],
   "source": [
    "# Define a function to register tensorboard monitor elements\n",
    "def variable_summaries(var):\n",
    "    \"\"\"Attach a lot of summaries to a Tensor (for TensorBoard visualization).\"\"\"\n",
    "    with tf.name_scope('summaries'):\n",
    "        mean = tf.reduce_mean(var)\n",
    "        tf.summary.scalar('mean', mean)\n",
    "        with tf.name_scope('stddev'):\n",
    "            stddev = tf.sqrt(tf.reduce_mean(tf.square(var - mean)))\n",
    "        tf.summary.scalar('stddev', stddev)\n",
    "        tf.summary.scalar('max', tf.reduce_max(var))\n",
    "        tf.summary.scalar('min', tf.reduce_min(var))\n",
    "        tf.summary.histogram('histogram', var)"
   ]
  },
  {
   "cell_type": "code",
   "execution_count": 5,
   "metadata": {
    "collapsed": false,
    "deletable": true,
    "editable": true,
    "scrolled": false
   },
   "outputs": [
    {
     "data": {
      "text/plain": [
       "<tf.Tensor 'input_reshape/input:0' shape=() dtype=string>"
      ]
     },
     "execution_count": 5,
     "metadata": {},
     "output_type": "execute_result"
    },
    {
     "data": {
      "text/plain": [
       "<tf.Tensor 'conv1/conved:0' shape=() dtype=string>"
      ]
     },
     "execution_count": 5,
     "metadata": {},
     "output_type": "execute_result"
    },
    {
     "data": {
      "text/plain": [
       "<tf.Tensor 'conv1/pooled:0' shape=() dtype=string>"
      ]
     },
     "execution_count": 5,
     "metadata": {},
     "output_type": "execute_result"
    },
    {
     "data": {
      "text/plain": [
       "<tf.Tensor 'conv2/conved:0' shape=() dtype=string>"
      ]
     },
     "execution_count": 5,
     "metadata": {},
     "output_type": "execute_result"
    },
    {
     "data": {
      "text/plain": [
       "<tf.Tensor 'conv2/pooled:0' shape=() dtype=string>"
      ]
     },
     "execution_count": 5,
     "metadata": {},
     "output_type": "execute_result"
    },
    {
     "data": {
      "text/plain": [
       "<tf.Tensor 'full/activations:0' shape=() dtype=string>"
      ]
     },
     "execution_count": 5,
     "metadata": {},
     "output_type": "execute_result"
    },
    {
     "data": {
      "text/plain": [
       "<tf.Tensor 'dropout/dropout_keep_probability:0' shape=() dtype=string>"
      ]
     },
     "execution_count": 5,
     "metadata": {},
     "output_type": "execute_result"
    },
    {
     "data": {
      "text/plain": [
       "<tf.Tensor 'output/activations:0' shape=() dtype=string>"
      ]
     },
     "execution_count": 5,
     "metadata": {},
     "output_type": "execute_result"
    },
    {
     "data": {
      "text/plain": [
       "<tf.Tensor 'cross_entropy/cross_entropy:0' shape=() dtype=string>"
      ]
     },
     "execution_count": 5,
     "metadata": {},
     "output_type": "execute_result"
    },
    {
     "data": {
      "text/plain": [
       "<tf.Tensor 'accuracy/accuracy/accuracy:0' shape=() dtype=string>"
      ]
     },
     "execution_count": 5,
     "metadata": {},
     "output_type": "execute_result"
    },
    {
     "name": "stdout",
     "output_type": "stream",
     "text": [
      "step 0, training accuracy 0.11  test accuracy 0.0962\n",
      "step 0  train_loss : 7.5463  test_loss : 7.7506\n"
     ]
    },
    {
     "data": {
      "text/plain": [
       "'./train/train-0'"
      ]
     },
     "execution_count": 5,
     "metadata": {},
     "output_type": "execute_result"
    },
    {
     "name": "stdout",
     "output_type": "stream",
     "text": [
      "Adding run metadata for 99\n",
      "step 100, training accuracy 0.91  test accuracy 0.8939\n",
      "step 100  train_loss : 0.3547  test_loss : 0.3560\n"
     ]
    },
    {
     "data": {
      "text/plain": [
       "'./train/train-100'"
      ]
     },
     "execution_count": 5,
     "metadata": {},
     "output_type": "execute_result"
    },
    {
     "name": "stdout",
     "output_type": "stream",
     "text": [
      "Adding run metadata for 199\n",
      "step 200, training accuracy 0.945  test accuracy 0.9327\n",
      "step 200  train_loss : 0.2279  test_loss : 0.2300\n"
     ]
    },
    {
     "data": {
      "text/plain": [
       "'./train/train-200'"
      ]
     },
     "execution_count": 5,
     "metadata": {},
     "output_type": "execute_result"
    },
    {
     "name": "stdout",
     "output_type": "stream",
     "text": [
      "Adding run metadata for 299\n",
      "step 300, training accuracy 0.96  test accuracy 0.9488\n",
      "step 300  train_loss : 0.1540  test_loss : 0.1765\n"
     ]
    },
    {
     "data": {
      "text/plain": [
       "'./train/train-300'"
      ]
     },
     "execution_count": 5,
     "metadata": {},
     "output_type": "execute_result"
    },
    {
     "name": "stdout",
     "output_type": "stream",
     "text": [
      "Adding run metadata for 399\n",
      "step 400, training accuracy 0.945  test accuracy 0.9555\n",
      "step 400  train_loss : 0.1808  test_loss : 0.1498\n"
     ]
    },
    {
     "data": {
      "text/plain": [
       "'./train/train-400'"
      ]
     },
     "execution_count": 5,
     "metadata": {},
     "output_type": "execute_result"
    },
    {
     "name": "stdout",
     "output_type": "stream",
     "text": [
      "Adding run metadata for 499\n",
      "step 500, training accuracy 0.96  test accuracy 0.9619\n",
      "step 500  train_loss : 0.1653  test_loss : 0.1264\n"
     ]
    },
    {
     "data": {
      "text/plain": [
       "'./train/train-500'"
      ]
     },
     "execution_count": 5,
     "metadata": {},
     "output_type": "execute_result"
    },
    {
     "name": "stdout",
     "output_type": "stream",
     "text": [
      "Adding run metadata for 599\n",
      "step 600, training accuracy 0.965  test accuracy 0.9658\n",
      "step 600  train_loss : 0.0933  test_loss : 0.1165\n"
     ]
    },
    {
     "data": {
      "text/plain": [
       "'./train/train-600'"
      ]
     },
     "execution_count": 5,
     "metadata": {},
     "output_type": "execute_result"
    },
    {
     "name": "stdout",
     "output_type": "stream",
     "text": [
      "Adding run metadata for 699\n",
      "step 700, training accuracy 0.97  test accuracy 0.9689\n",
      "step 700  train_loss : 0.0856  test_loss : 0.1023\n"
     ]
    },
    {
     "data": {
      "text/plain": [
       "'./train/train-700'"
      ]
     },
     "execution_count": 5,
     "metadata": {},
     "output_type": "execute_result"
    },
    {
     "name": "stdout",
     "output_type": "stream",
     "text": [
      "Adding run metadata for 799\n",
      "step 800, training accuracy 0.96  test accuracy 0.9713\n",
      "step 800  train_loss : 0.1264  test_loss : 0.0916\n"
     ]
    },
    {
     "data": {
      "text/plain": [
       "'./train/train-800'"
      ]
     },
     "execution_count": 5,
     "metadata": {},
     "output_type": "execute_result"
    },
    {
     "name": "stdout",
     "output_type": "stream",
     "text": [
      "Adding run metadata for 899\n",
      "step 900, training accuracy 0.965  test accuracy 0.974\n",
      "step 900  train_loss : 0.1164  test_loss : 0.0866\n"
     ]
    },
    {
     "data": {
      "text/plain": [
       "'./train/train-900'"
      ]
     },
     "execution_count": 5,
     "metadata": {},
     "output_type": "execute_result"
    },
    {
     "name": "stdout",
     "output_type": "stream",
     "text": [
      "Adding run metadata for 999\n",
      "step 1000, training accuracy 0.955  test accuracy 0.9755\n",
      "step 1000  train_loss : 0.1548  test_loss : 0.0785\n"
     ]
    },
    {
     "data": {
      "text/plain": [
       "'./train/train-1000'"
      ]
     },
     "execution_count": 5,
     "metadata": {},
     "output_type": "execute_result"
    },
    {
     "name": "stdout",
     "output_type": "stream",
     "text": [
      "Adding run metadata for 1099\n",
      "step 1100, training accuracy 0.995  test accuracy 0.9775\n",
      "step 1100  train_loss : 0.0323  test_loss : 0.0737\n"
     ]
    },
    {
     "data": {
      "text/plain": [
       "'./train/train-1100'"
      ]
     },
     "execution_count": 5,
     "metadata": {},
     "output_type": "execute_result"
    },
    {
     "name": "stdout",
     "output_type": "stream",
     "text": [
      "Adding run metadata for 1199\n",
      "step 1200, training accuracy 0.995  test accuracy 0.9784\n",
      "step 1200  train_loss : 0.0356  test_loss : 0.0681\n"
     ]
    },
    {
     "data": {
      "text/plain": [
       "'./train/train-1200'"
      ]
     },
     "execution_count": 5,
     "metadata": {},
     "output_type": "execute_result"
    },
    {
     "name": "stdout",
     "output_type": "stream",
     "text": [
      "Adding run metadata for 1299\n",
      "step 1300, training accuracy 0.99  test accuracy 0.9776\n",
      "step 1300  train_loss : 0.0397  test_loss : 0.0667\n"
     ]
    },
    {
     "data": {
      "text/plain": [
       "'./train/train-1300'"
      ]
     },
     "execution_count": 5,
     "metadata": {},
     "output_type": "execute_result"
    },
    {
     "name": "stdout",
     "output_type": "stream",
     "text": [
      "Adding run metadata for 1399\n",
      "step 1400, training accuracy 0.99  test accuracy 0.9803\n",
      "step 1400  train_loss : 0.0615  test_loss : 0.0625\n"
     ]
    },
    {
     "data": {
      "text/plain": [
       "'./train/train-1400'"
      ]
     },
     "execution_count": 5,
     "metadata": {},
     "output_type": "execute_result"
    },
    {
     "name": "stdout",
     "output_type": "stream",
     "text": [
      "Adding run metadata for 1499\n",
      "step 1500, training accuracy 0.965  test accuracy 0.9807\n",
      "step 1500  train_loss : 0.0868  test_loss : 0.0593\n"
     ]
    },
    {
     "data": {
      "text/plain": [
       "'./train/train-1500'"
      ]
     },
     "execution_count": 5,
     "metadata": {},
     "output_type": "execute_result"
    },
    {
     "name": "stdout",
     "output_type": "stream",
     "text": [
      "Adding run metadata for 1599\n",
      "step 1600, training accuracy 0.975  test accuracy 0.9805\n",
      "step 1600  train_loss : 0.0937  test_loss : 0.0586\n"
     ]
    },
    {
     "data": {
      "text/plain": [
       "'./train/train-1600'"
      ]
     },
     "execution_count": 5,
     "metadata": {},
     "output_type": "execute_result"
    },
    {
     "name": "stdout",
     "output_type": "stream",
     "text": [
      "Adding run metadata for 1699\n",
      "step 1700, training accuracy 0.995  test accuracy 0.9808\n",
      "step 1700  train_loss : 0.0210  test_loss : 0.0564\n"
     ]
    },
    {
     "data": {
      "text/plain": [
       "'./train/train-1700'"
      ]
     },
     "execution_count": 5,
     "metadata": {},
     "output_type": "execute_result"
    },
    {
     "name": "stdout",
     "output_type": "stream",
     "text": [
      "Adding run metadata for 1799\n",
      "step 1800, training accuracy 0.99  test accuracy 0.9832\n",
      "step 1800  train_loss : 0.0383  test_loss : 0.0516\n"
     ]
    },
    {
     "data": {
      "text/plain": [
       "'./train/train-1800'"
      ]
     },
     "execution_count": 5,
     "metadata": {},
     "output_type": "execute_result"
    },
    {
     "name": "stdout",
     "output_type": "stream",
     "text": [
      "Adding run metadata for 1899\n",
      "step 1900, training accuracy 0.975  test accuracy 0.9836\n",
      "step 1900  train_loss : 0.0554  test_loss : 0.0498\n"
     ]
    },
    {
     "data": {
      "text/plain": [
       "'./train/train-1900'"
      ]
     },
     "execution_count": 5,
     "metadata": {},
     "output_type": "execute_result"
    },
    {
     "name": "stdout",
     "output_type": "stream",
     "text": [
      "Adding run metadata for 1999\n",
      "step 2000, training accuracy 0.995  test accuracy 0.9834\n",
      "step 2000  train_loss : 0.0440  test_loss : 0.0495\n"
     ]
    },
    {
     "data": {
      "text/plain": [
       "'./train/train-2000'"
      ]
     },
     "execution_count": 5,
     "metadata": {},
     "output_type": "execute_result"
    },
    {
     "name": "stdout",
     "output_type": "stream",
     "text": [
      "Adding run metadata for 2099\n",
      "step 2100, training accuracy 0.995  test accuracy 0.9845\n",
      "step 2100  train_loss : 0.0284  test_loss : 0.0462\n"
     ]
    },
    {
     "data": {
      "text/plain": [
       "'./train/train-2100'"
      ]
     },
     "execution_count": 5,
     "metadata": {},
     "output_type": "execute_result"
    },
    {
     "name": "stdout",
     "output_type": "stream",
     "text": [
      "Adding run metadata for 2199\n",
      "step 2200, training accuracy 0.99  test accuracy 0.9849\n",
      "step 2200  train_loss : 0.0200  test_loss : 0.0448\n"
     ]
    },
    {
     "data": {
      "text/plain": [
       "'./train/train-2200'"
      ]
     },
     "execution_count": 5,
     "metadata": {},
     "output_type": "execute_result"
    },
    {
     "name": "stdout",
     "output_type": "stream",
     "text": [
      "Adding run metadata for 2299\n",
      "step 2300, training accuracy 0.99  test accuracy 0.9853\n",
      "step 2300  train_loss : 0.0398  test_loss : 0.0439\n"
     ]
    },
    {
     "data": {
      "text/plain": [
       "'./train/train-2300'"
      ]
     },
     "execution_count": 5,
     "metadata": {},
     "output_type": "execute_result"
    },
    {
     "name": "stdout",
     "output_type": "stream",
     "text": [
      "Adding run metadata for 2399\n",
      "step 2400, training accuracy 1  test accuracy 0.9842\n",
      "step 2400  train_loss : 0.0158  test_loss : 0.0434\n"
     ]
    },
    {
     "data": {
      "text/plain": [
       "'./train/train-2400'"
      ]
     },
     "execution_count": 5,
     "metadata": {},
     "output_type": "execute_result"
    },
    {
     "name": "stdout",
     "output_type": "stream",
     "text": [
      "Adding run metadata for 2499\n",
      "step 2500, training accuracy 0.995  test accuracy 0.9855\n",
      "step 2500  train_loss : 0.0185  test_loss : 0.0421\n"
     ]
    },
    {
     "data": {
      "text/plain": [
       "'./train/train-2500'"
      ]
     },
     "execution_count": 5,
     "metadata": {},
     "output_type": "execute_result"
    },
    {
     "name": "stdout",
     "output_type": "stream",
     "text": [
      "Adding run metadata for 2599\n",
      "step 2600, training accuracy 0.985  test accuracy 0.9862\n",
      "step 2600  train_loss : 0.0388  test_loss : 0.0416\n"
     ]
    },
    {
     "data": {
      "text/plain": [
       "'./train/train-2600'"
      ]
     },
     "execution_count": 5,
     "metadata": {},
     "output_type": "execute_result"
    },
    {
     "name": "stdout",
     "output_type": "stream",
     "text": [
      "Adding run metadata for 2699\n",
      "step 2700, training accuracy 0.995  test accuracy 0.9868\n",
      "step 2700  train_loss : 0.0202  test_loss : 0.0395\n"
     ]
    },
    {
     "data": {
      "text/plain": [
       "'./train/train-2700'"
      ]
     },
     "execution_count": 5,
     "metadata": {},
     "output_type": "execute_result"
    },
    {
     "name": "stdout",
     "output_type": "stream",
     "text": [
      "Adding run metadata for 2799\n",
      "step 2800, training accuracy 1  test accuracy 0.9869\n",
      "step 2800  train_loss : 0.0054  test_loss : 0.0393\n"
     ]
    },
    {
     "data": {
      "text/plain": [
       "'./train/train-2800'"
      ]
     },
     "execution_count": 5,
     "metadata": {},
     "output_type": "execute_result"
    },
    {
     "name": "stdout",
     "output_type": "stream",
     "text": [
      "Adding run metadata for 2899\n",
      "step 2900, training accuracy 0.995  test accuracy 0.987\n",
      "step 2900  train_loss : 0.0162  test_loss : 0.0383\n"
     ]
    },
    {
     "data": {
      "text/plain": [
       "'./train/train-2900'"
      ]
     },
     "execution_count": 5,
     "metadata": {},
     "output_type": "execute_result"
    },
    {
     "name": "stdout",
     "output_type": "stream",
     "text": [
      "Adding run metadata for 2999\n",
      "step 3000, training accuracy 1  test accuracy 0.987\n",
      "step 3000  train_loss : 0.0070  test_loss : 0.0385\n"
     ]
    },
    {
     "data": {
      "text/plain": [
       "'./train/train-3000'"
      ]
     },
     "execution_count": 5,
     "metadata": {},
     "output_type": "execute_result"
    },
    {
     "name": "stdout",
     "output_type": "stream",
     "text": [
      "Adding run metadata for 3099\n",
      "step 3100, training accuracy 0.985  test accuracy 0.9866\n",
      "step 3100  train_loss : 0.0368  test_loss : 0.0398\n"
     ]
    },
    {
     "data": {
      "text/plain": [
       "'./train/train-3100'"
      ]
     },
     "execution_count": 5,
     "metadata": {},
     "output_type": "execute_result"
    },
    {
     "name": "stdout",
     "output_type": "stream",
     "text": [
      "Adding run metadata for 3199\n",
      "step 3200, training accuracy 0.995  test accuracy 0.9879\n",
      "step 3200  train_loss : 0.0238  test_loss : 0.0358\n"
     ]
    },
    {
     "data": {
      "text/plain": [
       "'./train/train-3200'"
      ]
     },
     "execution_count": 5,
     "metadata": {},
     "output_type": "execute_result"
    },
    {
     "name": "stdout",
     "output_type": "stream",
     "text": [
      "Adding run metadata for 3299\n",
      "step 3300, training accuracy 0.985  test accuracy 0.9874\n",
      "step 3300  train_loss : 0.0321  test_loss : 0.0353\n"
     ]
    },
    {
     "data": {
      "text/plain": [
       "'./train/train-3300'"
      ]
     },
     "execution_count": 5,
     "metadata": {},
     "output_type": "execute_result"
    },
    {
     "name": "stdout",
     "output_type": "stream",
     "text": [
      "Adding run metadata for 3399\n",
      "step 3400, training accuracy 0.995  test accuracy 0.9867\n",
      "step 3400  train_loss : 0.0200  test_loss : 0.0371\n"
     ]
    },
    {
     "data": {
      "text/plain": [
       "'./train/train-3400'"
      ]
     },
     "execution_count": 5,
     "metadata": {},
     "output_type": "execute_result"
    },
    {
     "name": "stdout",
     "output_type": "stream",
     "text": [
      "Adding run metadata for 3499\n",
      "step 3500, training accuracy 0.99  test accuracy 0.9867\n",
      "step 3500  train_loss : 0.0265  test_loss : 0.0361\n"
     ]
    },
    {
     "data": {
      "text/plain": [
       "'./train/train-3500'"
      ]
     },
     "execution_count": 5,
     "metadata": {},
     "output_type": "execute_result"
    },
    {
     "name": "stdout",
     "output_type": "stream",
     "text": [
      "Adding run metadata for 3599\n",
      "step 3600, training accuracy 1  test accuracy 0.9872\n",
      "step 3600  train_loss : 0.0060  test_loss : 0.0372\n"
     ]
    },
    {
     "data": {
      "text/plain": [
       "'./train/train-3600'"
      ]
     },
     "execution_count": 5,
     "metadata": {},
     "output_type": "execute_result"
    },
    {
     "name": "stdout",
     "output_type": "stream",
     "text": [
      "Adding run metadata for 3699\n",
      "step 3700, training accuracy 0.99  test accuracy 0.9876\n",
      "step 3700  train_loss : 0.0365  test_loss : 0.0357\n"
     ]
    },
    {
     "data": {
      "text/plain": [
       "'./train/train-3700'"
      ]
     },
     "execution_count": 5,
     "metadata": {},
     "output_type": "execute_result"
    },
    {
     "name": "stdout",
     "output_type": "stream",
     "text": [
      "Adding run metadata for 3799\n",
      "step 3800, training accuracy 0.98  test accuracy 0.9875\n",
      "step 3800  train_loss : 0.0617  test_loss : 0.0357\n"
     ]
    },
    {
     "data": {
      "text/plain": [
       "'./train/train-3800'"
      ]
     },
     "execution_count": 5,
     "metadata": {},
     "output_type": "execute_result"
    },
    {
     "name": "stdout",
     "output_type": "stream",
     "text": [
      "Adding run metadata for 3899\n",
      "step 3900, training accuracy 0.995  test accuracy 0.9883\n",
      "step 3900  train_loss : 0.0182  test_loss : 0.0330\n"
     ]
    },
    {
     "data": {
      "text/plain": [
       "'./train/train-3900'"
      ]
     },
     "execution_count": 5,
     "metadata": {},
     "output_type": "execute_result"
    },
    {
     "name": "stdout",
     "output_type": "stream",
     "text": [
      "Adding run metadata for 3999\n",
      "step 4000, training accuracy 1  test accuracy 0.988\n",
      "step 4000  train_loss : 0.0087  test_loss : 0.0359\n"
     ]
    },
    {
     "data": {
      "text/plain": [
       "'./train/train-4000'"
      ]
     },
     "execution_count": 5,
     "metadata": {},
     "output_type": "execute_result"
    },
    {
     "name": "stdout",
     "output_type": "stream",
     "text": [
      "Adding run metadata for 4099\n",
      "step 4100, training accuracy 0.98  test accuracy 0.9885\n",
      "step 4100  train_loss : 0.0464  test_loss : 0.0321\n"
     ]
    },
    {
     "data": {
      "text/plain": [
       "'./train/train-4100'"
      ]
     },
     "execution_count": 5,
     "metadata": {},
     "output_type": "execute_result"
    },
    {
     "name": "stdout",
     "output_type": "stream",
     "text": [
      "Adding run metadata for 4199\n",
      "step 4200, training accuracy 1  test accuracy 0.9874\n",
      "step 4200  train_loss : 0.0119  test_loss : 0.0346\n"
     ]
    },
    {
     "data": {
      "text/plain": [
       "'./train/train-4200'"
      ]
     },
     "execution_count": 5,
     "metadata": {},
     "output_type": "execute_result"
    },
    {
     "name": "stdout",
     "output_type": "stream",
     "text": [
      "Adding run metadata for 4299\n",
      "step 4300, training accuracy 0.995  test accuracy 0.9888\n",
      "step 4300  train_loss : 0.0163  test_loss : 0.0328\n"
     ]
    },
    {
     "data": {
      "text/plain": [
       "'./train/train-4300'"
      ]
     },
     "execution_count": 5,
     "metadata": {},
     "output_type": "execute_result"
    },
    {
     "name": "stdout",
     "output_type": "stream",
     "text": [
      "Adding run metadata for 4399\n",
      "step 4400, training accuracy 0.995  test accuracy 0.9881\n",
      "step 4400  train_loss : 0.0177  test_loss : 0.0316\n"
     ]
    },
    {
     "data": {
      "text/plain": [
       "'./train/train-4400'"
      ]
     },
     "execution_count": 5,
     "metadata": {},
     "output_type": "execute_result"
    },
    {
     "name": "stdout",
     "output_type": "stream",
     "text": [
      "Adding run metadata for 4499\n",
      "step 4500, training accuracy 0.995  test accuracy 0.9886\n",
      "step 4500  train_loss : 0.0141  test_loss : 0.0313\n"
     ]
    },
    {
     "data": {
      "text/plain": [
       "'./train/train-4500'"
      ]
     },
     "execution_count": 5,
     "metadata": {},
     "output_type": "execute_result"
    },
    {
     "name": "stdout",
     "output_type": "stream",
     "text": [
      "Adding run metadata for 4599\n",
      "step 4600, training accuracy 1  test accuracy 0.9885\n",
      "step 4600  train_loss : 0.0058  test_loss : 0.0314\n"
     ]
    },
    {
     "data": {
      "text/plain": [
       "'./train/train-4600'"
      ]
     },
     "execution_count": 5,
     "metadata": {},
     "output_type": "execute_result"
    },
    {
     "name": "stdout",
     "output_type": "stream",
     "text": [
      "Adding run metadata for 4699\n",
      "step 4700, training accuracy 1  test accuracy 0.989\n",
      "step 4700  train_loss : 0.0075  test_loss : 0.0314\n"
     ]
    },
    {
     "data": {
      "text/plain": [
       "'./train/train-4700'"
      ]
     },
     "execution_count": 5,
     "metadata": {},
     "output_type": "execute_result"
    },
    {
     "name": "stdout",
     "output_type": "stream",
     "text": [
      "Adding run metadata for 4799\n",
      "step 4800, training accuracy 1  test accuracy 0.9893\n",
      "step 4800  train_loss : 0.0092  test_loss : 0.0321\n"
     ]
    },
    {
     "data": {
      "text/plain": [
       "'./train/train-4800'"
      ]
     },
     "execution_count": 5,
     "metadata": {},
     "output_type": "execute_result"
    },
    {
     "name": "stdout",
     "output_type": "stream",
     "text": [
      "Adding run metadata for 4899\n",
      "step 4900, training accuracy 0.995  test accuracy 0.9894\n",
      "step 4900  train_loss : 0.0112  test_loss : 0.0306\n"
     ]
    },
    {
     "data": {
      "text/plain": [
       "'./train/train-4900'"
      ]
     },
     "execution_count": 5,
     "metadata": {},
     "output_type": "execute_result"
    },
    {
     "name": "stdout",
     "output_type": "stream",
     "text": [
      "Adding run metadata for 4999\n",
      "step 5000, training accuracy 1  test accuracy 0.9897\n",
      "step 5000  train_loss : 0.0045  test_loss : 0.0294\n"
     ]
    },
    {
     "data": {
      "text/plain": [
       "'./train/train-5000'"
      ]
     },
     "execution_count": 5,
     "metadata": {},
     "output_type": "execute_result"
    },
    {
     "name": "stdout",
     "output_type": "stream",
     "text": [
      "Adding run metadata for 5099\n",
      "step 5100, training accuracy 1  test accuracy 0.9895\n",
      "step 5100  train_loss : 0.0049  test_loss : 0.0312\n"
     ]
    },
    {
     "data": {
      "text/plain": [
       "'./train/train-5100'"
      ]
     },
     "execution_count": 5,
     "metadata": {},
     "output_type": "execute_result"
    },
    {
     "name": "stdout",
     "output_type": "stream",
     "text": [
      "Adding run metadata for 5199\n",
      "step 5200, training accuracy 0.995  test accuracy 0.9898\n",
      "step 5200  train_loss : 0.0094  test_loss : 0.0285\n"
     ]
    },
    {
     "data": {
      "text/plain": [
       "'./train/train-5200'"
      ]
     },
     "execution_count": 5,
     "metadata": {},
     "output_type": "execute_result"
    },
    {
     "name": "stdout",
     "output_type": "stream",
     "text": [
      "Adding run metadata for 5299\n",
      "step 5300, training accuracy 1  test accuracy 0.9896\n",
      "step 5300  train_loss : 0.0054  test_loss : 0.0312\n"
     ]
    },
    {
     "data": {
      "text/plain": [
       "'./train/train-5300'"
      ]
     },
     "execution_count": 5,
     "metadata": {},
     "output_type": "execute_result"
    },
    {
     "name": "stdout",
     "output_type": "stream",
     "text": [
      "Adding run metadata for 5399\n",
      "step 5400, training accuracy 0.995  test accuracy 0.9887\n",
      "step 5400  train_loss : 0.0095  test_loss : 0.0323\n"
     ]
    },
    {
     "data": {
      "text/plain": [
       "'./train/train-5400'"
      ]
     },
     "execution_count": 5,
     "metadata": {},
     "output_type": "execute_result"
    },
    {
     "name": "stdout",
     "output_type": "stream",
     "text": [
      "Adding run metadata for 5499\n",
      "step 5500, training accuracy 1  test accuracy 0.9899\n",
      "step 5500  train_loss : 0.0033  test_loss : 0.0289\n"
     ]
    },
    {
     "data": {
      "text/plain": [
       "'./train/train-5500'"
      ]
     },
     "execution_count": 5,
     "metadata": {},
     "output_type": "execute_result"
    },
    {
     "name": "stdout",
     "output_type": "stream",
     "text": [
      "Adding run metadata for 5599\n",
      "step 5600, training accuracy 1  test accuracy 0.9905\n",
      "step 5600  train_loss : 0.0017  test_loss : 0.0282\n"
     ]
    },
    {
     "data": {
      "text/plain": [
       "'./train/train-5600'"
      ]
     },
     "execution_count": 5,
     "metadata": {},
     "output_type": "execute_result"
    },
    {
     "name": "stdout",
     "output_type": "stream",
     "text": [
      "Adding run metadata for 5699\n",
      "step 5700, training accuracy 1  test accuracy 0.9904\n",
      "step 5700  train_loss : 0.0060  test_loss : 0.0280\n"
     ]
    },
    {
     "data": {
      "text/plain": [
       "'./train/train-5700'"
      ]
     },
     "execution_count": 5,
     "metadata": {},
     "output_type": "execute_result"
    },
    {
     "name": "stdout",
     "output_type": "stream",
     "text": [
      "Adding run metadata for 5799\n",
      "step 5800, training accuracy 1  test accuracy 0.9899\n",
      "step 5800  train_loss : 0.0020  test_loss : 0.0297\n"
     ]
    },
    {
     "data": {
      "text/plain": [
       "'./train/train-5800'"
      ]
     },
     "execution_count": 5,
     "metadata": {},
     "output_type": "execute_result"
    },
    {
     "name": "stdout",
     "output_type": "stream",
     "text": [
      "Adding run metadata for 5899\n",
      "step 5900, training accuracy 0.995  test accuracy 0.99\n",
      "step 5900  train_loss : 0.0203  test_loss : 0.0291\n"
     ]
    },
    {
     "data": {
      "text/plain": [
       "'./train/train-5900'"
      ]
     },
     "execution_count": 5,
     "metadata": {},
     "output_type": "execute_result"
    },
    {
     "name": "stdout",
     "output_type": "stream",
     "text": [
      "Adding run metadata for 5999\n",
      "step 6000, training accuracy 0.995  test accuracy 0.9907\n",
      "step 6000  train_loss : 0.0058  test_loss : 0.0278\n"
     ]
    },
    {
     "data": {
      "text/plain": [
       "'./train/train-6000'"
      ]
     },
     "execution_count": 5,
     "metadata": {},
     "output_type": "execute_result"
    },
    {
     "name": "stdout",
     "output_type": "stream",
     "text": [
      "Adding run metadata for 6099\n",
      "step 6100, training accuracy 0.995  test accuracy 0.9902\n",
      "step 6100  train_loss : 0.0113  test_loss : 0.0290\n"
     ]
    },
    {
     "data": {
      "text/plain": [
       "'./train/train-6100'"
      ]
     },
     "execution_count": 5,
     "metadata": {},
     "output_type": "execute_result"
    },
    {
     "name": "stdout",
     "output_type": "stream",
     "text": [
      "Adding run metadata for 6199\n",
      "step 6200, training accuracy 1  test accuracy 0.9901\n",
      "step 6200  train_loss : 0.0025  test_loss : 0.0283\n"
     ]
    },
    {
     "data": {
      "text/plain": [
       "'./train/train-6200'"
      ]
     },
     "execution_count": 5,
     "metadata": {},
     "output_type": "execute_result"
    },
    {
     "name": "stdout",
     "output_type": "stream",
     "text": [
      "Adding run metadata for 6299\n",
      "step 6300, training accuracy 1  test accuracy 0.9909\n",
      "step 6300  train_loss : 0.0094  test_loss : 0.0280\n"
     ]
    },
    {
     "data": {
      "text/plain": [
       "'./train/train-6300'"
      ]
     },
     "execution_count": 5,
     "metadata": {},
     "output_type": "execute_result"
    },
    {
     "name": "stdout",
     "output_type": "stream",
     "text": [
      "Adding run metadata for 6399\n",
      "step 6400, training accuracy 1  test accuracy 0.991\n",
      "step 6400  train_loss : 0.0012  test_loss : 0.0279\n"
     ]
    },
    {
     "data": {
      "text/plain": [
       "'./train/train-6400'"
      ]
     },
     "execution_count": 5,
     "metadata": {},
     "output_type": "execute_result"
    },
    {
     "name": "stdout",
     "output_type": "stream",
     "text": [
      "Adding run metadata for 6499\n",
      "step 6500, training accuracy 1  test accuracy 0.9914\n",
      "step 6500  train_loss : 0.0030  test_loss : 0.0273\n"
     ]
    },
    {
     "data": {
      "text/plain": [
       "'./train/train-6500'"
      ]
     },
     "execution_count": 5,
     "metadata": {},
     "output_type": "execute_result"
    },
    {
     "name": "stdout",
     "output_type": "stream",
     "text": [
      "Adding run metadata for 6599\n",
      "step 6600, training accuracy 1  test accuracy 0.9905\n",
      "step 6600  train_loss : 0.0058  test_loss : 0.0280\n"
     ]
    },
    {
     "data": {
      "text/plain": [
       "'./train/train-6600'"
      ]
     },
     "execution_count": 5,
     "metadata": {},
     "output_type": "execute_result"
    },
    {
     "name": "stdout",
     "output_type": "stream",
     "text": [
      "Adding run metadata for 6699\n",
      "step 6700, training accuracy 1  test accuracy 0.9903\n",
      "step 6700  train_loss : 0.0023  test_loss : 0.0271\n"
     ]
    },
    {
     "data": {
      "text/plain": [
       "'./train/train-6700'"
      ]
     },
     "execution_count": 5,
     "metadata": {},
     "output_type": "execute_result"
    },
    {
     "name": "stdout",
     "output_type": "stream",
     "text": [
      "Adding run metadata for 6799\n",
      "step 6800, training accuracy 1  test accuracy 0.9911\n",
      "step 6800  train_loss : 0.0051  test_loss : 0.0283\n"
     ]
    },
    {
     "data": {
      "text/plain": [
       "'./train/train-6800'"
      ]
     },
     "execution_count": 5,
     "metadata": {},
     "output_type": "execute_result"
    },
    {
     "name": "stdout",
     "output_type": "stream",
     "text": [
      "Adding run metadata for 6899\n",
      "step 6900, training accuracy 1  test accuracy 0.9906\n",
      "step 6900  train_loss : 0.0015  test_loss : 0.0269\n"
     ]
    },
    {
     "data": {
      "text/plain": [
       "'./train/train-6900'"
      ]
     },
     "execution_count": 5,
     "metadata": {},
     "output_type": "execute_result"
    },
    {
     "name": "stdout",
     "output_type": "stream",
     "text": [
      "Adding run metadata for 6999\n",
      "step 7000, training accuracy 1  test accuracy 0.9909\n",
      "step 7000  train_loss : 0.0060  test_loss : 0.0281\n"
     ]
    },
    {
     "data": {
      "text/plain": [
       "'./train/train-7000'"
      ]
     },
     "execution_count": 5,
     "metadata": {},
     "output_type": "execute_result"
    },
    {
     "name": "stdout",
     "output_type": "stream",
     "text": [
      "Adding run metadata for 7099\n",
      "step 7100, training accuracy 1  test accuracy 0.9906\n",
      "step 7100  train_loss : 0.0043  test_loss : 0.0278\n"
     ]
    },
    {
     "data": {
      "text/plain": [
       "'./train/train-7100'"
      ]
     },
     "execution_count": 5,
     "metadata": {},
     "output_type": "execute_result"
    },
    {
     "name": "stdout",
     "output_type": "stream",
     "text": [
      "Adding run metadata for 7199\n",
      "step 7200, training accuracy 1  test accuracy 0.9907\n",
      "step 7200  train_loss : 0.0019  test_loss : 0.0292\n"
     ]
    },
    {
     "data": {
      "text/plain": [
       "'./train/train-7200'"
      ]
     },
     "execution_count": 5,
     "metadata": {},
     "output_type": "execute_result"
    },
    {
     "name": "stdout",
     "output_type": "stream",
     "text": [
      "Adding run metadata for 7299\n",
      "step 7300, training accuracy 1  test accuracy 0.9912\n",
      "step 7300  train_loss : 0.0018  test_loss : 0.0285\n"
     ]
    },
    {
     "data": {
      "text/plain": [
       "'./train/train-7300'"
      ]
     },
     "execution_count": 5,
     "metadata": {},
     "output_type": "execute_result"
    },
    {
     "name": "stdout",
     "output_type": "stream",
     "text": [
      "Adding run metadata for 7399\n",
      "step 7400, training accuracy 1  test accuracy 0.9908\n",
      "step 7400  train_loss : 0.0037  test_loss : 0.0279\n"
     ]
    },
    {
     "data": {
      "text/plain": [
       "'./train/train-7400'"
      ]
     },
     "execution_count": 5,
     "metadata": {},
     "output_type": "execute_result"
    },
    {
     "name": "stdout",
     "output_type": "stream",
     "text": [
      "Adding run metadata for 7499\n",
      "step 7500, training accuracy 1  test accuracy 0.9901\n",
      "step 7500  train_loss : 0.0044  test_loss : 0.0294\n"
     ]
    },
    {
     "data": {
      "text/plain": [
       "'./train/train-7500'"
      ]
     },
     "execution_count": 5,
     "metadata": {},
     "output_type": "execute_result"
    },
    {
     "name": "stdout",
     "output_type": "stream",
     "text": [
      "Adding run metadata for 7599\n",
      "step 7600, training accuracy 1  test accuracy 0.9902\n",
      "step 7600  train_loss : 0.0017  test_loss : 0.0295\n"
     ]
    },
    {
     "data": {
      "text/plain": [
       "'./train/train-7600'"
      ]
     },
     "execution_count": 5,
     "metadata": {},
     "output_type": "execute_result"
    },
    {
     "name": "stdout",
     "output_type": "stream",
     "text": [
      "Adding run metadata for 7699\n",
      "step 7700, training accuracy 1  test accuracy 0.9902\n",
      "step 7700  train_loss : 0.0039  test_loss : 0.0289\n"
     ]
    },
    {
     "data": {
      "text/plain": [
       "'./train/train-7700'"
      ]
     },
     "execution_count": 5,
     "metadata": {},
     "output_type": "execute_result"
    },
    {
     "name": "stdout",
     "output_type": "stream",
     "text": [
      "Adding run metadata for 7799\n",
      "step 7800, training accuracy 1  test accuracy 0.9901\n",
      "step 7800  train_loss : 0.0013  test_loss : 0.0280\n"
     ]
    },
    {
     "data": {
      "text/plain": [
       "'./train/train-7800'"
      ]
     },
     "execution_count": 5,
     "metadata": {},
     "output_type": "execute_result"
    },
    {
     "name": "stdout",
     "output_type": "stream",
     "text": [
      "Adding run metadata for 7899\n",
      "step 7900, training accuracy 0.995  test accuracy 0.9919\n",
      "step 7900  train_loss : 0.0099  test_loss : 0.0273\n"
     ]
    },
    {
     "data": {
      "text/plain": [
       "'./train/train-7900'"
      ]
     },
     "execution_count": 5,
     "metadata": {},
     "output_type": "execute_result"
    },
    {
     "name": "stdout",
     "output_type": "stream",
     "text": [
      "Adding run metadata for 7999\n",
      "step 8000, training accuracy 1  test accuracy 0.991\n",
      "step 8000  train_loss : 0.0014  test_loss : 0.0271\n"
     ]
    },
    {
     "data": {
      "text/plain": [
       "'./train/train-8000'"
      ]
     },
     "execution_count": 5,
     "metadata": {},
     "output_type": "execute_result"
    },
    {
     "name": "stdout",
     "output_type": "stream",
     "text": [
      "Adding run metadata for 8099\n",
      "step 8100, training accuracy 1  test accuracy 0.9901\n",
      "step 8100  train_loss : 0.0029  test_loss : 0.0277\n"
     ]
    },
    {
     "data": {
      "text/plain": [
       "'./train/train-8100'"
      ]
     },
     "execution_count": 5,
     "metadata": {},
     "output_type": "execute_result"
    },
    {
     "name": "stdout",
     "output_type": "stream",
     "text": [
      "Adding run metadata for 8199\n",
      "step 8200, training accuracy 1  test accuracy 0.9909\n",
      "step 8200  train_loss : 0.0063  test_loss : 0.0279\n"
     ]
    },
    {
     "data": {
      "text/plain": [
       "'./train/train-8200'"
      ]
     },
     "execution_count": 5,
     "metadata": {},
     "output_type": "execute_result"
    },
    {
     "name": "stdout",
     "output_type": "stream",
     "text": [
      "Adding run metadata for 8299\n",
      "step 8300, training accuracy 1  test accuracy 0.9911\n",
      "step 8300  train_loss : 0.0026  test_loss : 0.0271\n"
     ]
    },
    {
     "data": {
      "text/plain": [
       "'./train/train-8300'"
      ]
     },
     "execution_count": 5,
     "metadata": {},
     "output_type": "execute_result"
    },
    {
     "name": "stdout",
     "output_type": "stream",
     "text": [
      "Adding run metadata for 8399\n",
      "step 8400, training accuracy 1  test accuracy 0.9907\n",
      "step 8400  train_loss : 0.0015  test_loss : 0.0269\n"
     ]
    },
    {
     "data": {
      "text/plain": [
       "'./train/train-8400'"
      ]
     },
     "execution_count": 5,
     "metadata": {},
     "output_type": "execute_result"
    },
    {
     "name": "stdout",
     "output_type": "stream",
     "text": [
      "Adding run metadata for 8499\n",
      "step 8500, training accuracy 1  test accuracy 0.9908\n",
      "step 8500  train_loss : 0.0052  test_loss : 0.0280\n"
     ]
    },
    {
     "data": {
      "text/plain": [
       "'./train/train-8500'"
      ]
     },
     "execution_count": 5,
     "metadata": {},
     "output_type": "execute_result"
    },
    {
     "name": "stdout",
     "output_type": "stream",
     "text": [
      "Adding run metadata for 8599\n",
      "step 8600, training accuracy 1  test accuracy 0.9915\n",
      "step 8600  train_loss : 0.0017  test_loss : 0.0274\n"
     ]
    },
    {
     "data": {
      "text/plain": [
       "'./train/train-8600'"
      ]
     },
     "execution_count": 5,
     "metadata": {},
     "output_type": "execute_result"
    },
    {
     "name": "stdout",
     "output_type": "stream",
     "text": [
      "Adding run metadata for 8699\n",
      "step 8700, training accuracy 1  test accuracy 0.9902\n",
      "step 8700  train_loss : 0.0010  test_loss : 0.0278\n"
     ]
    },
    {
     "data": {
      "text/plain": [
       "'./train/train-8700'"
      ]
     },
     "execution_count": 5,
     "metadata": {},
     "output_type": "execute_result"
    },
    {
     "name": "stdout",
     "output_type": "stream",
     "text": [
      "Adding run metadata for 8799\n",
      "step 8800, training accuracy 1  test accuracy 0.9926\n",
      "step 8800  train_loss : 0.0045  test_loss : 0.0247\n"
     ]
    },
    {
     "data": {
      "text/plain": [
       "'./train/train-8800'"
      ]
     },
     "execution_count": 5,
     "metadata": {},
     "output_type": "execute_result"
    },
    {
     "name": "stdout",
     "output_type": "stream",
     "text": [
      "Adding run metadata for 8899\n",
      "step 8900, training accuracy 1  test accuracy 0.9913\n",
      "step 8900  train_loss : 0.0023  test_loss : 0.0268\n"
     ]
    },
    {
     "data": {
      "text/plain": [
       "'./train/train-8900'"
      ]
     },
     "execution_count": 5,
     "metadata": {},
     "output_type": "execute_result"
    },
    {
     "name": "stdout",
     "output_type": "stream",
     "text": [
      "Adding run metadata for 8999\n",
      "step 9000, training accuracy 1  test accuracy 0.9915\n",
      "step 9000  train_loss : 0.0039  test_loss : 0.0265\n"
     ]
    },
    {
     "data": {
      "text/plain": [
       "'./train/train-9000'"
      ]
     },
     "execution_count": 5,
     "metadata": {},
     "output_type": "execute_result"
    },
    {
     "name": "stdout",
     "output_type": "stream",
     "text": [
      "Adding run metadata for 9099\n",
      "step 9100, training accuracy 1  test accuracy 0.9917\n",
      "step 9100  train_loss : 0.0020  test_loss : 0.0256\n"
     ]
    },
    {
     "data": {
      "text/plain": [
       "'./train/train-9100'"
      ]
     },
     "execution_count": 5,
     "metadata": {},
     "output_type": "execute_result"
    },
    {
     "name": "stdout",
     "output_type": "stream",
     "text": [
      "Adding run metadata for 9199\n",
      "step 9200, training accuracy 1  test accuracy 0.9914\n",
      "step 9200  train_loss : 0.0010  test_loss : 0.0267\n"
     ]
    },
    {
     "data": {
      "text/plain": [
       "'./train/train-9200'"
      ]
     },
     "execution_count": 5,
     "metadata": {},
     "output_type": "execute_result"
    },
    {
     "name": "stdout",
     "output_type": "stream",
     "text": [
      "Adding run metadata for 9299\n",
      "step 9300, training accuracy 1  test accuracy 0.9914\n",
      "step 9300  train_loss : 0.0011  test_loss : 0.0251\n"
     ]
    },
    {
     "data": {
      "text/plain": [
       "'./train/train-9300'"
      ]
     },
     "execution_count": 5,
     "metadata": {},
     "output_type": "execute_result"
    },
    {
     "name": "stdout",
     "output_type": "stream",
     "text": [
      "Adding run metadata for 9399\n",
      "step 9400, training accuracy 1  test accuracy 0.9908\n",
      "step 9400  train_loss : 0.0011  test_loss : 0.0278\n"
     ]
    },
    {
     "data": {
      "text/plain": [
       "'./train/train-9400'"
      ]
     },
     "execution_count": 5,
     "metadata": {},
     "output_type": "execute_result"
    },
    {
     "name": "stdout",
     "output_type": "stream",
     "text": [
      "Adding run metadata for 9499\n",
      "step 9500, training accuracy 1  test accuracy 0.9918\n",
      "step 9500  train_loss : 0.0009  test_loss : 0.0258\n"
     ]
    },
    {
     "data": {
      "text/plain": [
       "'./train/train-9500'"
      ]
     },
     "execution_count": 5,
     "metadata": {},
     "output_type": "execute_result"
    },
    {
     "name": "stdout",
     "output_type": "stream",
     "text": [
      "Adding run metadata for 9599\n",
      "step 9600, training accuracy 0.995  test accuracy 0.992\n",
      "step 9600  train_loss : 0.0074  test_loss : 0.0250\n"
     ]
    },
    {
     "data": {
      "text/plain": [
       "'./train/train-9600'"
      ]
     },
     "execution_count": 5,
     "metadata": {},
     "output_type": "execute_result"
    },
    {
     "name": "stdout",
     "output_type": "stream",
     "text": [
      "Adding run metadata for 9699\n",
      "step 9700, training accuracy 1  test accuracy 0.9917\n",
      "step 9700  train_loss : 0.0001  test_loss : 0.0247\n"
     ]
    },
    {
     "data": {
      "text/plain": [
       "'./train/train-9700'"
      ]
     },
     "execution_count": 5,
     "metadata": {},
     "output_type": "execute_result"
    },
    {
     "name": "stdout",
     "output_type": "stream",
     "text": [
      "Adding run metadata for 9799\n",
      "step 9800, training accuracy 1  test accuracy 0.9917\n",
      "step 9800  train_loss : 0.0016  test_loss : 0.0263\n"
     ]
    },
    {
     "data": {
      "text/plain": [
       "'./train/train-9800'"
      ]
     },
     "execution_count": 5,
     "metadata": {},
     "output_type": "execute_result"
    },
    {
     "name": "stdout",
     "output_type": "stream",
     "text": [
      "Adding run metadata for 9899\n",
      "step 9900, training accuracy 1  test accuracy 0.9913\n",
      "step 9900  train_loss : 0.0015  test_loss : 0.0285\n"
     ]
    },
    {
     "data": {
      "text/plain": [
       "'./train/train-9900'"
      ]
     },
     "execution_count": 5,
     "metadata": {},
     "output_type": "execute_result"
    },
    {
     "name": "stdout",
     "output_type": "stream",
     "text": [
      "Adding run metadata for 9999\n"
     ]
    }
   ],
   "source": [
    "# Define the parameters for the CNN\n",
    "HEIGHT = 28\n",
    "WIDTH = 28\n",
    "CHANNEL = 1\n",
    "NPIXELS = HEIGHT*WIDTH\n",
    "NLABELS = 10\n",
    "\n",
    "CONV_HEIGHT = 5\n",
    "CONV_WIDTH = 5\n",
    "\n",
    "POOL_HEIGHT = 2\n",
    "POOL_WIDTH = 2\n",
    "\n",
    "NCONV_LAYERS = 2\n",
    "NCONV1 = 32\n",
    "NCONV2 = 64\n",
    "\n",
    "NDENSE = 1024\n",
    "\n",
    "NBATCH = 200\n",
    "PROB_DROPOUT = 0.5\n",
    "\n",
    "FIN_HEIGHT = int(HEIGHT/(POOL_HEIGHT*NCONV_LAYERS))\n",
    "FIN_WIDTH = int(WIDTH/(POOL_WIDTH*NCONV_LAYERS))\n",
    "\n",
    "# Function to define the weights and their initial values\n",
    "def weight_variable(shape):\n",
    "    initial = tf.truncated_normal(shape, stddev=0.1)\n",
    "    return tf.Variable(initial)\n",
    "\n",
    "# Function to define the bias and their initial values\n",
    "def bias_variable(shape):\n",
    "    initial = tf.constant(0.1, shape=shape)\n",
    "    return tf.Variable(initial)\n",
    "\n",
    "# Function to construct a 2D conv. layer\n",
    "def conv2d(x, W):\n",
    "    # x is the input tensor, W is the weight\n",
    "    # strides of [batch, height, width, channel]. padding of 'SAME' to keep number of output nodes the same as input\n",
    "    return tf.nn.conv2d(x, W, strides=[1, 1, 1, 1], padding='SAME')\n",
    "\n",
    "# Function to make pooling\n",
    "def max_pool_2x2(x):\n",
    "    # ksize define the size of the pooling\n",
    "    # strides with pool_height and pool_width ensure no overlap elements used\n",
    "    return tf.nn.max_pool(x, ksize=[1, POOL_HEIGHT, POOL_WIDTH, 1],\n",
    "                        strides=[1, POOL_HEIGHT, POOL_WIDTH, 1], padding='SAME')\n",
    "\n",
    "with tf.name_scope('input'):\n",
    "    # tensor dimension of [batch, height*width] for the input\n",
    "    x = tf.placeholder(tf.float32, shape=[None, NPIXELS], name='x-input')\n",
    "    # tensor dimension of [batch, labels] for the target\n",
    "    y_ = tf.placeholder(tf.float32, shape=[None, NLABELS], name='y-input')\n",
    "\n",
    "with tf.name_scope('input_reshape'):\n",
    "    # reshape the input to match each of the image\n",
    "    x_image = tf.reshape(x, [-1, HEIGHT, WIDTH, CHANNEL])\n",
    "    # sample 10 input images in tensorBoard\n",
    "    tf.summary.image('input', x_image, 10)\n",
    "\n",
    "with tf.name_scope('conv1'):\n",
    "    with tf.name_scope('weights'):\n",
    "        # the weights of conv layer1 with 5x5x1x32, i.e., 32 of feature map each with 5x5 size\n",
    "        W_conv1 = weight_variable([CONV_HEIGHT, CONV_WIDTH, CHANNEL, NCONV1])\n",
    "        variable_summaries(W_conv1)\n",
    "    with tf.name_scope('biases'):\n",
    "        b_conv1 = bias_variable([NCONV1])\n",
    "        variable_summaries(b_conv1)\n",
    "    # After convolution, use relu for activation, i.e., the detector layer in some literature\n",
    "    h_conv1 = tf.nn.relu(conv2d(x_image, W_conv1) + b_conv1)\n",
    "    tf.summary.histogram('conved', h_conv1)\n",
    "    # After activation, do pooling\n",
    "    h_pool1 = max_pool_2x2(h_conv1)\n",
    "    tf.summary.histogram('pooled', h_pool1)\n",
    "\n",
    "with tf.name_scope('conv2'):\n",
    "    with tf.name_scope('weights'):\n",
    "        # the weights of conv layer2 with 5x5x1x64, i.e., 64 of feature map each with 5x5 size\n",
    "        W_conv2 = weight_variable([CONV_HEIGHT, CONV_WIDTH, NCONV1, NCONV2])\n",
    "        variable_summaries(W_conv2)\n",
    "    with tf.name_scope('biases'):\n",
    "        b_conv2 = bias_variable([NCONV2])\n",
    "        variable_summaries(b_conv2)\n",
    "    h_conv2 = tf.nn.relu(conv2d(h_pool1, W_conv2) + b_conv2)\n",
    "    tf.summary.histogram('conved', h_conv2)\n",
    "    h_pool2 = max_pool_2x2(h_conv2)\n",
    "    tf.summary.histogram('pooled', h_pool2)\n",
    "\n",
    "with tf.name_scope('full'):\n",
    "    with tf.name_scope('weights'):\n",
    "        # full connection layer for function approximation\n",
    "        W_fc1 = weight_variable([FIN_HEIGHT * FIN_WIDTH * NCONV2, NDENSE])\n",
    "        variable_summaries(W_fc1)\n",
    "    with tf.name_scope('biases'):\n",
    "        b_fc1 = bias_variable([NDENSE])\n",
    "        variable_summaries(b_fc1)\n",
    "    # reshape the output from conv2 to a flat tensor\n",
    "    h_pool2_flat = tf.reshape(h_pool2, [-1, FIN_HEIGHT*FIN_WIDTH*NCONV2])\n",
    "    # relu is used for the activation\n",
    "    h_fc1 = tf.nn.relu(tf.matmul(h_pool2_flat, W_fc1) + b_fc1)\n",
    "    tf.summary.histogram('activations', h_fc1)\n",
    "\n",
    "with tf.name_scope('dropout'):\n",
    "    # probability for keeping a node in dropout\n",
    "    keep_prob = tf.placeholder(tf.float32, name='keep_prob-input')\n",
    "    tf.summary.scalar('dropout_keep_probability', keep_prob)\n",
    "    # dropout layer for regularization\n",
    "    h_fc1_drop = tf.nn.dropout(h_fc1, keep_prob)\n",
    "\n",
    "with tf.name_scope('output'):\n",
    "    with tf.name_scope('weights'):\n",
    "        # weights for output layer\n",
    "        W_fc2 = weight_variable([NDENSE, NLABELS])\n",
    "        variable_summaries(W_fc2)\n",
    "    with tf.name_scope('biases'):\n",
    "        b_fc2 = bias_variable([NLABELS])\n",
    "        variable_summaries(b_fc2)\n",
    "    # full connected and no activation function in order to calculate the cross-entropy for optimization\n",
    "    y_conv = tf.matmul(h_fc1_drop, W_fc2) + b_fc2\n",
    "    tf.summary.histogram('activations', y_conv)\n",
    "\n",
    "with tf.name_scope('cross_entropy'):\n",
    "    # the cross-entropy calculated using softmax with logits of y_conv\n",
    "    cross_entropy = tf.reduce_mean(\n",
    "        tf.nn.softmax_cross_entropy_with_logits(labels=y_, logits=y_conv))\n",
    "    tf.summary.scalar('cross_entropy', cross_entropy)\n",
    "\n",
    "with tf.name_scope('train'):\n",
    "    # specify the optimizer. here the Adam method is used which includes adaptive adjustment of learning rate\n",
    "    # and momentum.\n",
    "    train_step = tf.train.AdamOptimizer(1e-4).minimize(cross_entropy)\n",
    "    \n",
    "with tf.name_scope('accuracy'):\n",
    "    with tf.name_scope('correct_prediction'):\n",
    "        # calculate the correct prediction\n",
    "        correct_prediction = tf.equal(tf.argmax(y_conv,1), tf.argmax(y_,1))\n",
    "    with tf.name_scope('accuracy'):\n",
    "        # calculate accuracy\n",
    "        accuracy = tf.reduce_mean(tf.cast(correct_prediction, tf.float32))\n",
    "        tf.summary.scalar('accuracy', accuracy)\n",
    "\n",
    "# merge all the summary and write them into directories\n",
    "# they can be viewed in the tensorBoard\n",
    "merged = tf.summary.merge_all()\n",
    "train_writer = tf.summary.FileWriter('./train', sess.graph)\n",
    "test_writer = tf.summary.FileWriter('./test')\n",
    "\n",
    "sess.run(tf.global_variables_initializer())\n",
    "\n",
    "# save training parameter values\n",
    "saver = tf.train.Saver()\n",
    "\n",
    "# function to get the feed_dict for either taining or testing purpose\n",
    "def feed_dict(train):\n",
    "    \"\"\"Make a TensorFlow feed_dict: maps data onto Tensor placeholders.\"\"\"\n",
    "    if train:\n",
    "        xs, ys = mnist.train.next_batch(NBATCH)\n",
    "        k = PROB_DROPOUT\n",
    "    else:\n",
    "        xs, ys = mnist.test.images, mnist.test.labels\n",
    "        k = 1.0\n",
    "    return {x: xs, y_: ys, keep_prob: k}\n",
    "\n",
    "for i in range(10000):\n",
    "    cached_feed_dict_train = feed_dict(True)\n",
    "    cached_feed_dict_test = feed_dict(False)\n",
    "    if i%100 == 0:\n",
    "        summary, test_accuracy, test_loss = sess.run([merged, accuracy, cross_entropy], feed_dict=cached_feed_dict_test)\n",
    "        test_writer.add_summary(summary, i)\n",
    "        summary, train_accuracy, train_loss = sess.run([merged, accuracy, cross_entropy], \n",
    "                                                       feed_dict={x: cached_feed_dict_train[x], y_: cached_feed_dict_train[y_], keep_prob: 1.0})\n",
    "#                                                       feed_dict={x: mnist.train.images, y_: mnist.train.labels, keep_prob: 1.0})\n",
    "        train_writer.add_summary(summary, i)\n",
    "        print(\"step %d, training accuracy %g  test accuracy %g\"%(i, train_accuracy, test_accuracy))\n",
    "        print(\"step {}  train_loss : {:6.4f}  test_loss : {:6.4f}\".format(i, train_loss, test_loss))\n",
    "    else:\n",
    "        if i%100 == 99:\n",
    "            run_options = tf.RunOptions(trace_level = tf.RunOptions.FULL_TRACE)\n",
    "            run_metadata = tf.RunMetadata()\n",
    "            summary, _ = sess.run([merged, train_step], \n",
    "                                  feed_dict=cached_feed_dict_train, \n",
    "                                  options=run_options, \n",
    "                                  run_metadata=run_metadata)\n",
    "            train_writer.add_run_metadata(run_metadata, 'step%03d'%i)\n",
    "            train_writer.add_summary(summary, i)\n",
    "            print('Adding run metadata for', i)\n",
    "        else:\n",
    "            summary, _ = sess.run([merged, train_step], feed_dict=cached_feed_dict_train)\n",
    "            train_writer.add_summary(summary, i)\n",
    "    if i%100 ==0:\n",
    "        saver.save(sess, './train/train', global_step=i)\n",
    "        \n",
    "train_writer.close()\n",
    "test_writer.close()"
   ]
  }
 ],
 "metadata": {
  "kernelspec": {
   "display_name": "Python 3",
   "language": "python",
   "name": "python3"
  },
  "language_info": {
   "codemirror_mode": {
    "name": "ipython",
    "version": 3
   },
   "file_extension": ".py",
   "mimetype": "text/x-python",
   "name": "python",
   "nbconvert_exporter": "python",
   "pygments_lexer": "ipython3",
   "version": "3.5.1"
  }
 },
 "nbformat": 4,
 "nbformat_minor": 2
}
